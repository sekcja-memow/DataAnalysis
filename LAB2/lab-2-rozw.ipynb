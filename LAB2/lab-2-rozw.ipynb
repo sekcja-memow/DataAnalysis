{
 "cells": [
  {
   "cell_type": "markdown",
   "metadata": {
    "colab_type": "text",
    "id": "gFHSNZ-iTU2p"
   },
   "source": [
    "# Laboratorium 2: ewaluacja metod uczenia maszynowego\n",
    "\n",
    "W ramach laboratorium omówiona zostanie ewaluacja metod uczenia maszynowego ze szczególnym uwzględnieniem problemu regresji."
   ]
  },
  {
   "cell_type": "code",
   "execution_count": 2,
   "metadata": {
    "colab": {},
    "colab_type": "code",
    "id": "doIptr5uTULW"
   },
   "outputs": [
    {
     "name": "stdout",
     "output_type": "stream",
     "text": [
      ".. _boston_dataset:\n",
      "\n",
      "Boston house prices dataset\n",
      "---------------------------\n",
      "\n",
      "**Data Set Characteristics:**  \n",
      "\n",
      "    :Number of Instances: 506 \n",
      "\n",
      "    :Number of Attributes: 13 numeric/categorical predictive. Median Value (attribute 14) is usually the target.\n",
      "\n",
      "    :Attribute Information (in order):\n",
      "        - CRIM     per capita crime rate by town\n",
      "        - ZN       proportion of residential land zoned for lots over 25,000 sq.ft.\n",
      "        - INDUS    proportion of non-retail business acres per town\n",
      "        - CHAS     Charles River dummy variable (= 1 if tract bounds river; 0 otherwise)\n",
      "        - NOX      nitric oxides concentration (parts per 10 million)\n",
      "        - RM       average number of rooms per dwelling\n",
      "        - AGE      proportion of owner-occupied units built prior to 1940\n",
      "        - DIS      weighted distances to five Boston employment centres\n",
      "        - RAD      index of accessibility to radial highways\n",
      "        - TAX      full-value property-tax rate per $10,000\n",
      "        - PTRATIO  pupil-teacher ratio by town\n",
      "        - B        1000(Bk - 0.63)^2 where Bk is the proportion of blacks by town\n",
      "        - LSTAT    % lower status of the population\n",
      "        - MEDV     Median value of owner-occupied homes in $1000's\n",
      "\n",
      "    :Missing Attribute Values: None\n",
      "\n",
      "    :Creator: Harrison, D. and Rubinfeld, D.L.\n",
      "\n",
      "This is a copy of UCI ML housing dataset.\n",
      "https://archive.ics.uci.edu/ml/machine-learning-databases/housing/\n",
      "\n",
      "\n",
      "This dataset was taken from the StatLib library which is maintained at Carnegie Mellon University.\n",
      "\n",
      "The Boston house-price data of Harrison, D. and Rubinfeld, D.L. 'Hedonic\n",
      "prices and the demand for clean air', J. Environ. Economics & Management,\n",
      "vol.5, 81-102, 1978.   Used in Belsley, Kuh & Welsch, 'Regression diagnostics\n",
      "...', Wiley, 1980.   N.B. Various transformations are used in the table on\n",
      "pages 244-261 of the latter.\n",
      "\n",
      "The Boston house-price data has been used in many machine learning papers that address regression\n",
      "problems.   \n",
      "     \n",
      ".. topic:: References\n",
      "\n",
      "   - Belsley, Kuh & Welsch, 'Regression diagnostics: Identifying Influential Data and Sources of Collinearity', Wiley, 1980. 244-261.\n",
      "   - Quinlan,R. (1993). Combining Instance-Based and Model-Based Learning. In Proceedings on the Tenth International Conference of Machine Learning, 236-243, University of Massachusetts, Amherst. Morgan Kaufmann.\n",
      "\n",
      "boston (shape):  (506, 13)\n",
      "[24.  21.6 34.7 33.4 36.2 28.7 22.9 27.1 16.5 18.9 15.  18.9 21.7 20.4\n",
      " 18.2 19.9 23.1 17.5 20.2 18.2 13.6 19.6 15.2 14.5 15.6 13.9 16.6 14.8\n",
      " 18.4 21.  12.7 14.5 13.2 13.1 13.5 18.9 20.  21.  24.7 30.8 34.9 26.6\n",
      " 25.3 24.7 21.2 19.3 20.  16.6 14.4 19.4 19.7 20.5 25.  23.4 18.9 35.4\n",
      " 24.7 31.6 23.3 19.6 18.7 16.  22.2 25.  33.  23.5 19.4 22.  17.4 20.9\n",
      " 24.2 21.7 22.8 23.4 24.1 21.4 20.  20.8 21.2 20.3 28.  23.9 24.8 22.9\n",
      " 23.9 26.6 22.5 22.2 23.6 28.7 22.6 22.  22.9 25.  20.6 28.4 21.4 38.7\n",
      " 43.8 33.2 27.5 26.5 18.6 19.3 20.1 19.5 19.5 20.4 19.8 19.4 21.7 22.8\n",
      " 18.8 18.7 18.5 18.3 21.2 19.2 20.4 19.3 22.  20.3 20.5 17.3 18.8 21.4\n",
      " 15.7 16.2 18.  14.3 19.2 19.6 23.  18.4 15.6 18.1 17.4 17.1 13.3 17.8\n",
      " 14.  14.4 13.4 15.6 11.8 13.8 15.6 14.6 17.8 15.4 21.5 19.6 15.3 19.4\n",
      " 17.  15.6 13.1 41.3 24.3 23.3 27.  50.  50.  50.  22.7 25.  50.  23.8\n",
      " 23.8 22.3 17.4 19.1 23.1 23.6 22.6 29.4 23.2 24.6 29.9 37.2 39.8 36.2\n",
      " 37.9 32.5 26.4 29.6 50.  32.  29.8 34.9 37.  30.5 36.4 31.1 29.1 50.\n",
      " 33.3 30.3 34.6 34.9 32.9 24.1 42.3 48.5 50.  22.6 24.4 22.5 24.4 20.\n",
      " 21.7 19.3 22.4 28.1 23.7 25.  23.3 28.7 21.5 23.  26.7 21.7 27.5 30.1\n",
      " 44.8 50.  37.6 31.6 46.7 31.5 24.3 31.7 41.7 48.3 29.  24.  25.1 31.5\n",
      " 23.7 23.3 22.  20.1 22.2 23.7 17.6 18.5 24.3 20.5 24.5 26.2 24.4 24.8\n",
      " 29.6 42.8 21.9 20.9 44.  50.  36.  30.1 33.8 43.1 48.8 31.  36.5 22.8\n",
      " 30.7 50.  43.5 20.7 21.1 25.2 24.4 35.2 32.4 32.  33.2 33.1 29.1 35.1\n",
      " 45.4 35.4 46.  50.  32.2 22.  20.1 23.2 22.3 24.8 28.5 37.3 27.9 23.9\n",
      " 21.7 28.6 27.1 20.3 22.5 29.  24.8 22.  26.4 33.1 36.1 28.4 33.4 28.2\n",
      " 22.8 20.3 16.1 22.1 19.4 21.6 23.8 16.2 17.8 19.8 23.1 21.  23.8 23.1\n",
      " 20.4 18.5 25.  24.6 23.  22.2 19.3 22.6 19.8 17.1 19.4 22.2 20.7 21.1\n",
      " 19.5 18.5 20.6 19.  18.7 32.7 16.5 23.9 31.2 17.5 17.2 23.1 24.5 26.6\n",
      " 22.9 24.1 18.6 30.1 18.2 20.6 17.8 21.7 22.7 22.6 25.  19.9 20.8 16.8\n",
      " 21.9 27.5 21.9 23.1 50.  50.  50.  50.  50.  13.8 13.8 15.  13.9 13.3\n",
      " 13.1 10.2 10.4 10.9 11.3 12.3  8.8  7.2 10.5  7.4 10.2 11.5 15.1 23.2\n",
      "  9.7 13.8 12.7 13.1 12.5  8.5  5.   6.3  5.6  7.2 12.1  8.3  8.5  5.\n",
      " 11.9 27.9 17.2 27.5 15.  17.2 17.9 16.3  7.   7.2  7.5 10.4  8.8  8.4\n",
      " 16.7 14.2 20.8 13.4 11.7  8.3 10.2 10.9 11.   9.5 14.5 14.1 16.1 14.3\n",
      " 11.7 13.4  9.6  8.7  8.4 12.8 10.5 17.1 18.4 15.4 10.8 11.8 14.9 12.6\n",
      " 14.1 13.  13.4 15.2 16.1 17.8 14.9 14.1 12.7 13.5 14.9 20.  16.4 17.7\n",
      " 19.5 20.2 21.4 19.9 19.  19.1 19.1 20.1 19.9 19.6 23.2 29.8 13.8 13.3\n",
      " 16.7 12.  14.6 21.4 23.  23.7 25.  21.8 20.6 21.2 19.1 20.6 15.2  7.\n",
      "  8.1 13.6 20.1 21.8 24.5 23.1 19.7 18.3 21.2 17.5 16.8 22.4 20.6 23.9\n",
      " 22.  11.9]\n",
      "(404, 13)\n"
     ]
    }
   ],
   "source": [
    "from sklearn import datasets\n",
    "from sklearn.model_selection import train_test_split\n",
    "import numpy as np\n",
    "\n",
    "boston = datasets.load_boston()\n",
    "print(boston.DESCR)\n",
    "\n",
    "print(\"boston (shape): \", boston.data.shape)\n",
    "\n",
    "print(boston.target)\n",
    "\n",
    "# Wycinamy kawałek danych do testów:\n",
    "\n",
    "X_train, X_test, y_train, y_test = train_test_split(\n",
    "    boston.data, boston.target, test_size=0.2, random_state=421, shuffle=True)\n",
    "\n",
    "print(X_train.shape)"
   ]
  },
  {
   "cell_type": "code",
   "execution_count": 3,
   "metadata": {},
   "outputs": [
    {
     "data": {
      "text/plain": [
       "array([[6.14700e-01, 0.00000e+00, 6.20000e+00, ..., 1.74000e+01,\n",
       "        3.96900e+02, 7.60000e+00],\n",
       "       [2.11240e-01, 1.25000e+01, 7.87000e+00, ..., 1.52000e+01,\n",
       "        3.86630e+02, 2.99300e+01],\n",
       "       [2.14918e+00, 0.00000e+00, 1.95800e+01, ..., 1.47000e+01,\n",
       "        2.61950e+02, 1.57900e+01],\n",
       "       ...,\n",
       "       [6.07600e-02, 0.00000e+00, 1.19300e+01, ..., 2.10000e+01,\n",
       "        3.96900e+02, 5.64000e+00],\n",
       "       [4.98100e-02, 2.10000e+01, 5.64000e+00, ..., 1.68000e+01,\n",
       "        3.96900e+02, 8.43000e+00],\n",
       "       [2.54300e-02, 5.50000e+01, 3.78000e+00, ..., 1.76000e+01,\n",
       "        3.96900e+02, 7.18000e+00]])"
      ]
     },
     "execution_count": 3,
     "metadata": {},
     "output_type": "execute_result"
    }
   ],
   "source": [
    "X_train"
   ]
  },
  {
   "cell_type": "markdown",
   "metadata": {
    "colab_type": "text",
    "id": "2p80GeP8VHz4"
   },
   "source": [
    "## Regresja liniowa\n",
    "\n",
    "Przejrzyj poniższy kod.\n",
    "Policz współczynniki $R^2$ na zbiorze testowym i treningowym.\n",
    "Jak się je interpretuje? Który powinien być większy?\n",
    "Policz też błędy średniokwadratowe."
   ]
  },
  {
   "cell_type": "code",
   "execution_count": 4,
   "metadata": {
    "colab": {},
    "colab_type": "code",
    "id": "4YtjkVi6VKcp"
   },
   "outputs": [
    {
     "data": {
      "image/png": "[encoded data removed]",
      "text/plain": [
       "<Figure size 432x288 with 1 Axes>"
      ]
     },
     "metadata": {
      "needs_background": "light"
     },
     "output_type": "display_data"
    },
    {
     "name": "stdout",
     "output_type": "stream",
     "text": [
      "MSE train:  21.907706593780187\n",
      "MSE test:   22.55176602687942\n",
      "R2 train:  0.7334972975111719\n",
      "R2 test:   0.7577881611199544\n"
     ]
    }
   ],
   "source": [
    "from sklearn import linear_model\n",
    "from sklearn.metrics import mean_squared_error\n",
    "import matplotlib.pyplot as plt\n",
    "\n",
    "lr = linear_model.LinearRegression()\n",
    "lr.fit(X_train, y_train)\n",
    "\n",
    "def evaluate_reg(reg):\n",
    "  pred_test = reg.predict(X_test)\n",
    "\n",
    "  fig, ax = plt.subplots()\n",
    "  ax.scatter(y_test, pred_test, edgecolors=(0, 0, 0))\n",
    "  ax.plot([y_test.min(), y_test.max()], [y_test.min(), y_test.max()], 'k--', lw=2)\n",
    "  ax.set_xlabel('Measured')\n",
    "  ax.set_ylabel('Predicted')\n",
    "  plt.show()\n",
    "\n",
    "  ## solution \n",
    "\n",
    "  print(\"MSE train: \", mean_squared_error(y_train, reg.predict(X_train)))\n",
    "  print(\"MSE test:  \", mean_squared_error(y_test, reg.predict(X_test)))\n",
    "\n",
    "evaluate_reg(lr)\n",
    "\n",
    "## solution\n",
    "\n",
    "print(\"R2 train: \", lr.score(X_train, y_train))\n",
    "print(\"R2 test:  \", lr.score(X_test, y_test))\n"
   ]
  },
  {
   "cell_type": "markdown",
   "metadata": {
    "colab_type": "text",
    "id": "zI-787LaonkF"
   },
   "source": [
    "## Ridge regression\n",
    "\n",
    "Przeprowadź analogiczną procedurę jak w poprzednim punkcie, ale z wykorzystaniem *Ridge regression*.\n",
    "Sprawdź, które współczynniki regresji są równe zero. Co to oznacza? Jakim parametrom w danych odpowiadają te cechy?"
   ]
  },
  {
   "cell_type": "code",
   "execution_count": 5,
   "metadata": {
    "colab": {},
    "colab_type": "code",
    "id": "BL73Ozgvo-Ln"
   },
   "outputs": [
    {
     "data": {
      "image/png": "[encoded data removed]",
      "text/plain": [
       "<Figure size 432x288 with 1 Axes>"
      ]
     },
     "metadata": {
      "needs_background": "light"
     },
     "output_type": "display_data"
    },
    {
     "name": "stdout",
     "output_type": "stream",
     "text": [
      "MSE train:  24.251070206232697\n",
      "MSE test:   25.30663518784275\n",
      "Params:  [-0.04978535  0.03992148 -0.01018163  0.         -0.          2.48781338\n",
      "  0.00788664 -0.79666863  0.21500793 -0.01328535 -0.82312589  0.00910398\n",
      " -0.6461811 ]\n",
      "Intercept:  32.74547531916387\n",
      "R2 train:  0.7049907656677208\n",
      "R2 test:   0.7282001490522721\n"
     ]
    }
   ],
   "source": [
    "from sklearn import linear_model\n",
    "\n",
    "reg_ridge = linear_model.Ridge(alpha=1)\n",
    "reg_lasso = linear_model.Lasso(alpha=0.5)\n",
    "\n",
    "reg = reg_lasso\n",
    "\n",
    "reg.fit(X_train, y_train)\n",
    "evaluate_reg(reg)\n",
    "print(\"Params: \", reg.coef_)\n",
    "print(\"Intercept: \", reg.intercept_)\n",
    "\n",
    "## solution \n",
    "print(\"R2 train: \", reg.score(X_train, y_train))\n",
    "print(\"R2 test:  \", reg.score(X_test, y_test))"
   ]
  },
  {
   "cell_type": "markdown",
   "metadata": {
    "colab_type": "text",
    "id": "8SDSfODcY3yz"
   },
   "source": [
    "## Drzewa regresji\n",
    "\n",
    "Dopasuj kilkukrotnie model drzewa regresji. W jakim zakresie zmienia się błąd na zbiorze treningowym?"
   ]
  },
  {
   "cell_type": "code",
   "execution_count": 6,
   "metadata": {
    "colab": {},
    "colab_type": "code",
    "id": "Z8YC16fKY3A-"
   },
   "outputs": [
    {
     "data": {
      "image/png": "[encoded data removed]",
      "text/plain": [
       "<Figure size 432x288 with 1 Axes>"
      ]
     },
     "metadata": {
      "needs_background": "light"
     },
     "output_type": "display_data"
    },
    {
     "name": "stdout",
     "output_type": "stream",
     "text": [
      "MSE train:  0.0\n",
      "MSE test:   15.435882352941176\n"
     ]
    }
   ],
   "source": [
    "from sklearn import tree\n",
    "\n",
    "reg = tree.DecisionTreeRegressor()\n",
    "\n",
    "reg.fit(X_train, y_train)\n",
    "\n",
    "evaluate_reg(reg)"
   ]
  },
  {
   "cell_type": "markdown",
   "metadata": {
    "colab_type": "text",
    "id": "Tk1PiaRI5MBx"
   },
   "source": [
    "## Walidacja krzyżowa\n",
    "\n",
    "Zaobserwuj stabilność średniej z MSE przy wykorzystaniu walidacji krzyżowej.\n",
    "Dopisz sprawdzanie błędów poszczególnych metod regresji na zbiorze testowym (normalnie tego się **nie** robi -- to jest tylko dla celów poglądowych). Zastanów się skąd może brać się różnica.\n",
    "\n",
    "Porównaj wyniki dla drzew regresji i metody Lasso z wcześniejszego zadania."
   ]
  },
  {
   "cell_type": "code",
   "execution_count": 10,
   "metadata": {
    "colab": {},
    "colab_type": "code",
    "id": "7Te2IOEH5OOK"
   },
   "outputs": [
    {
     "name": "stdout",
     "output_type": "stream",
     "text": [
      "24.142689422833705\n",
      "26.35728329522568\n",
      "25.47849571563674\n"
     ]
    }
   ],
   "source": [
    "from sklearn.model_selection import KFold\n",
    "\n",
    "kf = KFold(n_splits=10, shuffle=True)\n",
    "\n",
    "errors_resub = []\n",
    "errors_valid = []\n",
    "errors_test = []\n",
    "for train_idx, valid_idx in kf.split(X_train):\n",
    "  X_t_f, X_v_f = X_train[train_idx], X_train[valid_idx]\n",
    "  y_t_f, y_v_f = y_train[train_idx], y_train[valid_idx]\n",
    "\n",
    "  #reg = tree.DecisionTreeRegressor()\n",
    "  reg = linear_model.Lasso(alpha=0.5)\n",
    "  reg.fit(X_t_f, y_t_f)\n",
    "  errors_resub.append(mean_squared_error(y_t_f, reg.predict(X_t_f)))\n",
    "  errors_valid.append(mean_squared_error(y_v_f, reg.predict(X_v_f)))\n",
    "  errors_test.append(mean_squared_error(y_test, reg.predict(X_test)))\n",
    "\n",
    "\n",
    "print(sum(errors_resub)/kf.n_splits)\n",
    "print(sum(errors_valid)/kf.n_splits)\n",
    "print(sum(errors_test)/kf.n_splits)\n"
   ]
  },
  {
   "cell_type": "markdown",
   "metadata": {
    "colab_type": "text",
    "id": "_p21tVotgvm6"
   },
   "source": [
    "## Optymalizacja parametrów\n",
    "\n",
    "Z użyciem walidacji krzyżowej.\n",
    "\n",
    "Znajdź optymalną wartość parametru `alpha` dla metody Lasso.\n",
    "\n",
    "Następnie znajdź optymalne parametry dla metody `DecisionTreeRegressor` (na przykład `max_depth`, `min_samples_leaf`). Spróbuj zmodyfikować także inne parametry i sprawdź rezultaty.\n",
    "\n",
    "Napisz własną funkcję oceniającą model regresji tak, aby premiowała małe drzewa. Ile minimum węzłów w drzewie potrzebujesz aby MSE na zbiorze testowym było mniejsze niż 15?"
   ]
  },
  {
   "cell_type": "code",
   "execution_count": 8,
   "metadata": {
    "colab": {},
    "colab_type": "code",
    "id": "rP123T70g2Q_"
   },
   "outputs": [
    {
     "name": "stdout",
     "output_type": "stream",
     "text": [
      "{'alpha': 0.1}\n",
      "MSE train:  22.896070980524588\n",
      "MSE test:   24.00514346171196\n",
      "{'max_depth': None, 'min_samples_leaf': 4}\n",
      "MSE train:  4.983977133427628\n",
      "MSE test:   12.372781191921211\n",
      "Nodes:  165\n"
     ]
    },
    {
     "data": {
      "image/png": "[encoded data removed]",
      "text/plain": [
       "<Figure size 432x288 with 1 Axes>"
      ]
     },
     "metadata": {
      "needs_background": "light"
     },
     "output_type": "display_data"
    }
   ],
   "source": [
    "from sklearn.model_selection import GridSearchCV\n",
    "\n",
    "parameters = {'alpha': [0.1, 0.5 , 1.0, 5.0, 10.0]}\n",
    "lasso_reg = linear_model.Lasso()\n",
    "gcv_reg = GridSearchCV(lasso_reg, parameters, scoring='neg_mean_squared_error')\n",
    "gcv_reg.fit(X_train, y_train)\n",
    "print(gcv_reg.best_params_)\n",
    "\n",
    "print(\"MSE train: \", mean_squared_error(y_train, gcv_reg.predict(X_train)))\n",
    "print(\"MSE test:  \", mean_squared_error(y_test, gcv_reg.predict(X_test)))\n",
    "\n",
    "grid_tree = {'max_depth': [1, 2, 3, 4, None], 'min_samples_leaf': [1, 2, 4, 8]}\n",
    "tree_reg = tree.DecisionTreeRegressor()\n",
    "gcv_reg = GridSearchCV(tree_reg, grid_tree, scoring='neg_mean_squared_error')\n",
    "gcv_reg.fit(X_train, y_train)\n",
    "print(gcv_reg.best_params_)\n",
    "\n",
    "tree.plot_tree(gcv_reg.best_estimator_)\n",
    "\n",
    "print(\"MSE train: \", mean_squared_error(y_train, gcv_reg.predict(X_train)))\n",
    "print(\"MSE test:  \", mean_squared_error(y_test, gcv_reg.predict(X_test)))\n",
    "print(\"Nodes: \", gcv_reg.best_estimator_.tree_.node_count)"
   ]
  },
  {
   "cell_type": "code",
   "execution_count": null,
   "metadata": {},
   "outputs": [],
   "source": []
  }
 ],
 "metadata": {
  "colab": {
   "collapsed_sections": [],
   "name": "Zajecia2_rozw.ipynb",
   "provenance": []
  },
  "kernelspec": {
   "display_name": "Python 3",
   "language": "python",
   "name": "python3"
  },
  "language_info": {
   "codemirror_mode": {
    "name": "ipython",
    "version": 3
   },
   "file_extension": ".py",
   "mimetype": "text/x-python",
   "name": "python",
   "nbconvert_exporter": "python",
   "pygments_lexer": "ipython3",
   "version": "3.8.5"
  }
 },
 "nbformat": 4,
 "nbformat_minor": 4
}
