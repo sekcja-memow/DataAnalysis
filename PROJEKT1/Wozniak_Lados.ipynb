{
 "cells": [
  {
   "cell_type": "code",
   "execution_count": 52,
   "metadata": {},
   "outputs": [],
   "source": [
    "from typing import List\n",
    "\n",
    "from sklearn.model_selection import train_test_split\n",
    "from sklearn.model_selection import cross_val_score\n",
    "from sklearn.model_selection import GridSearchCV\n",
    "from sklearn.model_selection import KFold\n",
    "from sklearn.metrics import plot_confusion_matrix, roc_curve\n",
    "from sklearn import metrics\n",
    "from sklearn import linear_model\n",
    "from sklearn.metrics import mean_squared_error\n",
    "from sklearn.metrics import confusion_matrix\n",
    "\n",
    "import pandas as pd\n",
    "import numpy as np\n",
    "\n",
    "import matplotlib.pyplot as plt\n",
    "import seaborn as sns\n",
    "\n",
    "import warnings\n",
    "warnings.filterwarnings('ignore')"
   ]
  },
  {
   "cell_type": "markdown",
   "metadata": {},
   "source": [
    " "
   ]
  },
  {
   "cell_type": "markdown",
   "metadata": {},
   "source": [
    " "
   ]
  },
  {
   "cell_type": "markdown",
   "metadata": {},
   "source": [
    "##### 1. Wczytanie danych"
   ]
  },
  {
   "cell_type": "code",
   "execution_count": 2,
   "metadata": {},
   "outputs": [
    {
     "name": "stdout",
     "output_type": "stream",
     "text": [
      "Data shape: (286, 10)\n"
     ]
    },
    {
     "data": {
      "text/html": [
       "<div>\n",
       "<style scoped>\n",
       "    .dataframe tbody tr th:only-of-type {\n",
       "        vertical-align: middle;\n",
       "    }\n",
       "\n",
       "    .dataframe tbody tr th {\n",
       "        vertical-align: top;\n",
       "    }\n",
       "\n",
       "    .dataframe thead th {\n",
       "        text-align: right;\n",
       "    }\n",
       "</style>\n",
       "<table border=\"1\" class=\"dataframe\">\n",
       "  <thead>\n",
       "    <tr style=\"text-align: right;\">\n",
       "      <th></th>\n",
       "      <th>Class</th>\n",
       "      <th>age</th>\n",
       "      <th>menopause</th>\n",
       "      <th>tumor-size</th>\n",
       "      <th>inv-nodes</th>\n",
       "      <th>node-caps</th>\n",
       "      <th>deg-malig</th>\n",
       "      <th>breast</th>\n",
       "      <th>breast-quad</th>\n",
       "      <th>irradiat</th>\n",
       "    </tr>\n",
       "  </thead>\n",
       "  <tbody>\n",
       "    <tr>\n",
       "      <th>0</th>\n",
       "      <td>no-recurrence-events</td>\n",
       "      <td>30-39</td>\n",
       "      <td>premeno</td>\n",
       "      <td>30-34</td>\n",
       "      <td>0-2</td>\n",
       "      <td>no</td>\n",
       "      <td>3</td>\n",
       "      <td>left</td>\n",
       "      <td>left_low</td>\n",
       "      <td>no</td>\n",
       "    </tr>\n",
       "    <tr>\n",
       "      <th>1</th>\n",
       "      <td>no-recurrence-events</td>\n",
       "      <td>40-49</td>\n",
       "      <td>premeno</td>\n",
       "      <td>20-24</td>\n",
       "      <td>0-2</td>\n",
       "      <td>no</td>\n",
       "      <td>2</td>\n",
       "      <td>right</td>\n",
       "      <td>right_up</td>\n",
       "      <td>no</td>\n",
       "    </tr>\n",
       "    <tr>\n",
       "      <th>2</th>\n",
       "      <td>no-recurrence-events</td>\n",
       "      <td>40-49</td>\n",
       "      <td>premeno</td>\n",
       "      <td>20-24</td>\n",
       "      <td>0-2</td>\n",
       "      <td>no</td>\n",
       "      <td>2</td>\n",
       "      <td>left</td>\n",
       "      <td>left_low</td>\n",
       "      <td>no</td>\n",
       "    </tr>\n",
       "    <tr>\n",
       "      <th>3</th>\n",
       "      <td>no-recurrence-events</td>\n",
       "      <td>60-69</td>\n",
       "      <td>ge40</td>\n",
       "      <td>15-19</td>\n",
       "      <td>0-2</td>\n",
       "      <td>no</td>\n",
       "      <td>2</td>\n",
       "      <td>right</td>\n",
       "      <td>left_up</td>\n",
       "      <td>no</td>\n",
       "    </tr>\n",
       "    <tr>\n",
       "      <th>4</th>\n",
       "      <td>no-recurrence-events</td>\n",
       "      <td>40-49</td>\n",
       "      <td>premeno</td>\n",
       "      <td>0-4</td>\n",
       "      <td>0-2</td>\n",
       "      <td>no</td>\n",
       "      <td>2</td>\n",
       "      <td>right</td>\n",
       "      <td>right_low</td>\n",
       "      <td>no</td>\n",
       "    </tr>\n",
       "  </tbody>\n",
       "</table>\n",
       "</div>"
      ],
      "text/plain": [
       "                  Class    age menopause tumor-size inv-nodes node-caps  \\\n",
       "0  no-recurrence-events  30-39   premeno      30-34       0-2        no   \n",
       "1  no-recurrence-events  40-49   premeno      20-24       0-2        no   \n",
       "2  no-recurrence-events  40-49   premeno      20-24       0-2        no   \n",
       "3  no-recurrence-events  60-69      ge40      15-19       0-2        no   \n",
       "4  no-recurrence-events  40-49   premeno        0-4       0-2        no   \n",
       "\n",
       "   deg-malig breast breast-quad irradiat  \n",
       "0          3   left    left_low       no  \n",
       "1          2  right    right_up       no  \n",
       "2          2   left    left_low       no  \n",
       "3          2  right     left_up       no  \n",
       "4          2  right   right_low       no  "
      ]
     },
     "execution_count": 2,
     "metadata": {},
     "output_type": "execute_result"
    }
   ],
   "source": [
    "df: pd.DataFrame = pd.read_csv(\n",
    "    'breast-cancer.data', sep=',',\n",
    "    names=['Class', 'age', 'menopause', 'tumor-size', 'inv-nodes', 'node-caps', 'deg-malig', 'breast', 'breast-quad', 'irradiat']\n",
    ")\n",
    "\n",
    "print(f\"Data shape: {df.shape}\")\n",
    "df.head()"
   ]
  },
  {
   "cell_type": "markdown",
   "metadata": {},
   "source": [
    "##### 1.1 Opis danych"
   ]
  },
  {
   "cell_type": "markdown",
   "metadata": {},
   "source": [
    "1. **Class**: no-recurrence-events, recurrence-events\n",
    "2. **age**: 10-19, 20-29, 30-39, 40-49, 50-59, 60-69, 70-79, 80-89, 90-99.\n",
    "3. **menopause**: lt40, ge40, premeno.\n",
    "4. **tumor-size**: 0-4, 5-9, 10-14, 15-19, 20-24, 25-29, 30-34, 35-39, 40-44, 45-49, 50-54, 55-59.\n",
    "5. **inv-nodes**: 0-2, 3-5, 6-8, 9-11, 12-14, 15-17, 18-20, 21-23, 24-26, 27-29, 30-32, 33-35, 36-39.\n",
    "6. **node-caps**: yes, no.\n",
    "7. **deg-malig**: 1, 2, 3.\n",
    "8. **breas**t: left, right.\n",
    "9. **breast-quad**: left-up, left-low, right-up, right-low, central.\n",
    "10. **irradia**t: yes, no."
   ]
  },
  {
   "cell_type": "code",
   "execution_count": 3,
   "metadata": {},
   "outputs": [
    {
     "data": {
      "text/plain": [
       "Class          object\n",
       "age            object\n",
       "menopause      object\n",
       "tumor-size     object\n",
       "inv-nodes      object\n",
       "node-caps      object\n",
       "deg-malig       int64\n",
       "breast         object\n",
       "breast-quad    object\n",
       "irradiat       object\n",
       "dtype: object"
      ]
     },
     "execution_count": 3,
     "metadata": {},
     "output_type": "execute_result"
    }
   ],
   "source": [
    "df.dtypes"
   ]
  },
  {
   "cell_type": "code",
   "execution_count": 4,
   "metadata": {},
   "outputs": [
    {
     "data": {
      "text/html": [
       "<div>\n",
       "<style scoped>\n",
       "    .dataframe tbody tr th:only-of-type {\n",
       "        vertical-align: middle;\n",
       "    }\n",
       "\n",
       "    .dataframe tbody tr th {\n",
       "        vertical-align: top;\n",
       "    }\n",
       "\n",
       "    .dataframe thead th {\n",
       "        text-align: right;\n",
       "    }\n",
       "</style>\n",
       "<table border=\"1\" class=\"dataframe\">\n",
       "  <thead>\n",
       "    <tr style=\"text-align: right;\">\n",
       "      <th></th>\n",
       "      <th>deg-malig</th>\n",
       "    </tr>\n",
       "  </thead>\n",
       "  <tbody>\n",
       "    <tr>\n",
       "      <th>count</th>\n",
       "      <td>286.000000</td>\n",
       "    </tr>\n",
       "    <tr>\n",
       "      <th>mean</th>\n",
       "      <td>2.048951</td>\n",
       "    </tr>\n",
       "    <tr>\n",
       "      <th>std</th>\n",
       "      <td>0.738217</td>\n",
       "    </tr>\n",
       "    <tr>\n",
       "      <th>min</th>\n",
       "      <td>1.000000</td>\n",
       "    </tr>\n",
       "    <tr>\n",
       "      <th>25%</th>\n",
       "      <td>2.000000</td>\n",
       "    </tr>\n",
       "    <tr>\n",
       "      <th>50%</th>\n",
       "      <td>2.000000</td>\n",
       "    </tr>\n",
       "    <tr>\n",
       "      <th>75%</th>\n",
       "      <td>3.000000</td>\n",
       "    </tr>\n",
       "    <tr>\n",
       "      <th>max</th>\n",
       "      <td>3.000000</td>\n",
       "    </tr>\n",
       "  </tbody>\n",
       "</table>\n",
       "</div>"
      ],
      "text/plain": [
       "        deg-malig\n",
       "count  286.000000\n",
       "mean     2.048951\n",
       "std      0.738217\n",
       "min      1.000000\n",
       "25%      2.000000\n",
       "50%      2.000000\n",
       "75%      3.000000\n",
       "max      3.000000"
      ]
     },
     "execution_count": 4,
     "metadata": {},
     "output_type": "execute_result"
    }
   ],
   "source": [
    "df.describe()"
   ]
  },
  {
   "cell_type": "markdown",
   "metadata": {},
   "source": [
    "* Nie ma brakujących danych"
   ]
  },
  {
   "cell_type": "code",
   "execution_count": 5,
   "metadata": {},
   "outputs": [
    {
     "data": {
      "text/plain": [
       "Class          False\n",
       "age            False\n",
       "menopause      False\n",
       "tumor-size     False\n",
       "inv-nodes      False\n",
       "node-caps      False\n",
       "deg-malig      False\n",
       "breast         False\n",
       "breast-quad    False\n",
       "irradiat       False\n",
       "dtype: bool"
      ]
     },
     "execution_count": 5,
     "metadata": {},
     "output_type": "execute_result"
    }
   ],
   "source": [
    "df.isna().any()"
   ]
  },
  {
   "cell_type": "code",
   "execution_count": 6,
   "metadata": {},
   "outputs": [
    {
     "name": "stdout",
     "output_type": "stream",
     "text": [
      "no-recurrence-events:  201\n",
      "recurrence-events t:  85\n"
     ]
    },
    {
     "data": {
      "image/png": "[encoded data removed]",
      "text/plain": [
       "<Figure size 432x288 with 1 Axes>"
      ]
     },
     "metadata": {
      "needs_background": "light"
     },
     "output_type": "display_data"
    }
   ],
   "source": [
    "ax = sns.countplot(df['Class'], label=\"Count\")\n",
    "\n",
    "A, B = df['Class'].value_counts()\n",
    "print('no-recurrence-events: ', A)\n",
    "print('recurrence-events t: ', B)"
   ]
  },
  {
   "cell_type": "markdown",
   "metadata": {},
   "source": [
    "#### 2. Przetwarzanie i wizualizacja danych"
   ]
  },
  {
   "cell_type": "markdown",
   "metadata": {},
   "source": [
    "##### 2.1 Konwersja do danych liczbowych "
   ]
  },
  {
   "cell_type": "markdown",
   "metadata": {},
   "source": [
    "Konwersja `Class` do wartości `0` i `1`"
   ]
  },
  {
   "cell_type": "code",
   "execution_count": 7,
   "metadata": {},
   "outputs": [],
   "source": [
    "df['Class'] = pd.Categorical(df['Class']).codes"
   ]
  },
  {
   "cell_type": "markdown",
   "metadata": {},
   "source": [
    "Postaramy się zamienić kolumny `age`, `tumor-size` oraz `inv-nodes` na dane liczbowe uśredniając dostępne przedziały:"
   ]
  },
  {
   "cell_type": "code",
   "execution_count": 8,
   "metadata": {},
   "outputs": [],
   "source": [
    "def map_parameter(param: str) -> float:\n",
    "    params = param.split('-')\n",
    "    a, b = [int(param) for param in params]\n",
    "    return (a + b) / 2"
   ]
  },
  {
   "cell_type": "code",
   "execution_count": 9,
   "metadata": {},
   "outputs": [],
   "source": [
    "df['age'] = df['age'].apply(map_parameter)\n",
    "df['tumor-size'] = df['tumor-size'].apply(map_parameter)\n",
    "df['inv-nodes'] = df['inv-nodes'].apply(map_parameter)"
   ]
  },
  {
   "cell_type": "markdown",
   "metadata": {},
   "source": [
    "Pozostałe kolumny nienumeryczne zakodujemy metodą - `One Hot Encoding`:"
   ]
  },
  {
   "cell_type": "code",
   "execution_count": 10,
   "metadata": {},
   "outputs": [
    {
     "data": {
      "text/html": [
       "<div>\n",
       "<style scoped>\n",
       "    .dataframe tbody tr th:only-of-type {\n",
       "        vertical-align: middle;\n",
       "    }\n",
       "\n",
       "    .dataframe tbody tr th {\n",
       "        vertical-align: top;\n",
       "    }\n",
       "\n",
       "    .dataframe thead th {\n",
       "        text-align: right;\n",
       "    }\n",
       "</style>\n",
       "<table border=\"1\" class=\"dataframe\">\n",
       "  <thead>\n",
       "    <tr style=\"text-align: right;\">\n",
       "      <th></th>\n",
       "      <th>Class</th>\n",
       "      <th>age</th>\n",
       "      <th>tumor-size</th>\n",
       "      <th>inv-nodes</th>\n",
       "      <th>deg-malig</th>\n",
       "      <th>menopause_ge40</th>\n",
       "      <th>menopause_lt40</th>\n",
       "      <th>menopause_premeno</th>\n",
       "      <th>node-caps_?</th>\n",
       "      <th>node-caps_no</th>\n",
       "      <th>...</th>\n",
       "      <th>breast_left</th>\n",
       "      <th>breast_right</th>\n",
       "      <th>breast-quad_?</th>\n",
       "      <th>breast-quad_central</th>\n",
       "      <th>breast-quad_left_low</th>\n",
       "      <th>breast-quad_left_up</th>\n",
       "      <th>breast-quad_right_low</th>\n",
       "      <th>breast-quad_right_up</th>\n",
       "      <th>irradiat_no</th>\n",
       "      <th>irradiat_yes</th>\n",
       "    </tr>\n",
       "  </thead>\n",
       "  <tbody>\n",
       "    <tr>\n",
       "      <th>0</th>\n",
       "      <td>0</td>\n",
       "      <td>34.5</td>\n",
       "      <td>32.0</td>\n",
       "      <td>1.0</td>\n",
       "      <td>3</td>\n",
       "      <td>0</td>\n",
       "      <td>0</td>\n",
       "      <td>1</td>\n",
       "      <td>0</td>\n",
       "      <td>1</td>\n",
       "      <td>...</td>\n",
       "      <td>1</td>\n",
       "      <td>0</td>\n",
       "      <td>0</td>\n",
       "      <td>0</td>\n",
       "      <td>1</td>\n",
       "      <td>0</td>\n",
       "      <td>0</td>\n",
       "      <td>0</td>\n",
       "      <td>1</td>\n",
       "      <td>0</td>\n",
       "    </tr>\n",
       "    <tr>\n",
       "      <th>1</th>\n",
       "      <td>0</td>\n",
       "      <td>44.5</td>\n",
       "      <td>22.0</td>\n",
       "      <td>1.0</td>\n",
       "      <td>2</td>\n",
       "      <td>0</td>\n",
       "      <td>0</td>\n",
       "      <td>1</td>\n",
       "      <td>0</td>\n",
       "      <td>1</td>\n",
       "      <td>...</td>\n",
       "      <td>0</td>\n",
       "      <td>1</td>\n",
       "      <td>0</td>\n",
       "      <td>0</td>\n",
       "      <td>0</td>\n",
       "      <td>0</td>\n",
       "      <td>0</td>\n",
       "      <td>1</td>\n",
       "      <td>1</td>\n",
       "      <td>0</td>\n",
       "    </tr>\n",
       "    <tr>\n",
       "      <th>2</th>\n",
       "      <td>0</td>\n",
       "      <td>44.5</td>\n",
       "      <td>22.0</td>\n",
       "      <td>1.0</td>\n",
       "      <td>2</td>\n",
       "      <td>0</td>\n",
       "      <td>0</td>\n",
       "      <td>1</td>\n",
       "      <td>0</td>\n",
       "      <td>1</td>\n",
       "      <td>...</td>\n",
       "      <td>1</td>\n",
       "      <td>0</td>\n",
       "      <td>0</td>\n",
       "      <td>0</td>\n",
       "      <td>1</td>\n",
       "      <td>0</td>\n",
       "      <td>0</td>\n",
       "      <td>0</td>\n",
       "      <td>1</td>\n",
       "      <td>0</td>\n",
       "    </tr>\n",
       "    <tr>\n",
       "      <th>3</th>\n",
       "      <td>0</td>\n",
       "      <td>64.5</td>\n",
       "      <td>17.0</td>\n",
       "      <td>1.0</td>\n",
       "      <td>2</td>\n",
       "      <td>1</td>\n",
       "      <td>0</td>\n",
       "      <td>0</td>\n",
       "      <td>0</td>\n",
       "      <td>1</td>\n",
       "      <td>...</td>\n",
       "      <td>0</td>\n",
       "      <td>1</td>\n",
       "      <td>0</td>\n",
       "      <td>0</td>\n",
       "      <td>0</td>\n",
       "      <td>1</td>\n",
       "      <td>0</td>\n",
       "      <td>0</td>\n",
       "      <td>1</td>\n",
       "      <td>0</td>\n",
       "    </tr>\n",
       "    <tr>\n",
       "      <th>4</th>\n",
       "      <td>0</td>\n",
       "      <td>44.5</td>\n",
       "      <td>2.0</td>\n",
       "      <td>1.0</td>\n",
       "      <td>2</td>\n",
       "      <td>0</td>\n",
       "      <td>0</td>\n",
       "      <td>1</td>\n",
       "      <td>0</td>\n",
       "      <td>1</td>\n",
       "      <td>...</td>\n",
       "      <td>0</td>\n",
       "      <td>1</td>\n",
       "      <td>0</td>\n",
       "      <td>0</td>\n",
       "      <td>0</td>\n",
       "      <td>0</td>\n",
       "      <td>1</td>\n",
       "      <td>0</td>\n",
       "      <td>1</td>\n",
       "      <td>0</td>\n",
       "    </tr>\n",
       "  </tbody>\n",
       "</table>\n",
       "<p>5 rows × 21 columns</p>\n",
       "</div>"
      ],
      "text/plain": [
       "   Class   age  tumor-size  inv-nodes  deg-malig  menopause_ge40  \\\n",
       "0      0  34.5        32.0        1.0          3               0   \n",
       "1      0  44.5        22.0        1.0          2               0   \n",
       "2      0  44.5        22.0        1.0          2               0   \n",
       "3      0  64.5        17.0        1.0          2               1   \n",
       "4      0  44.5         2.0        1.0          2               0   \n",
       "\n",
       "   menopause_lt40  menopause_premeno  node-caps_?  node-caps_no  ...  \\\n",
       "0               0                  1            0             1  ...   \n",
       "1               0                  1            0             1  ...   \n",
       "2               0                  1            0             1  ...   \n",
       "3               0                  0            0             1  ...   \n",
       "4               0                  1            0             1  ...   \n",
       "\n",
       "   breast_left  breast_right  breast-quad_?  breast-quad_central  \\\n",
       "0            1             0              0                    0   \n",
       "1            0             1              0                    0   \n",
       "2            1             0              0                    0   \n",
       "3            0             1              0                    0   \n",
       "4            0             1              0                    0   \n",
       "\n",
       "   breast-quad_left_low  breast-quad_left_up  breast-quad_right_low  \\\n",
       "0                     1                    0                      0   \n",
       "1                     0                    0                      0   \n",
       "2                     1                    0                      0   \n",
       "3                     0                    1                      0   \n",
       "4                     0                    0                      1   \n",
       "\n",
       "   breast-quad_right_up  irradiat_no  irradiat_yes  \n",
       "0                     0            1             0  \n",
       "1                     1            1             0  \n",
       "2                     0            1             0  \n",
       "3                     0            1             0  \n",
       "4                     0            1             0  \n",
       "\n",
       "[5 rows x 21 columns]"
      ]
     },
     "execution_count": 10,
     "metadata": {},
     "output_type": "execute_result"
    }
   ],
   "source": [
    "df_numeric = pd.get_dummies(df, columns=df.select_dtypes(['object']).columns)\n",
    "df_numeric.head()"
   ]
  },
  {
   "cell_type": "code",
   "execution_count": 11,
   "metadata": {},
   "outputs": [
    {
     "data": {
      "text/html": [
       "<div>\n",
       "<style scoped>\n",
       "    .dataframe tbody tr th:only-of-type {\n",
       "        vertical-align: middle;\n",
       "    }\n",
       "\n",
       "    .dataframe tbody tr th {\n",
       "        vertical-align: top;\n",
       "    }\n",
       "\n",
       "    .dataframe thead th {\n",
       "        text-align: right;\n",
       "    }\n",
       "</style>\n",
       "<table border=\"1\" class=\"dataframe\">\n",
       "  <thead>\n",
       "    <tr style=\"text-align: right;\">\n",
       "      <th></th>\n",
       "      <th>Class</th>\n",
       "      <th>age</th>\n",
       "      <th>tumor-size</th>\n",
       "      <th>inv-nodes</th>\n",
       "      <th>deg-malig</th>\n",
       "      <th>menopause_ge40</th>\n",
       "      <th>menopause_lt40</th>\n",
       "      <th>menopause_premeno</th>\n",
       "      <th>node-caps_?</th>\n",
       "      <th>node-caps_no</th>\n",
       "      <th>...</th>\n",
       "      <th>breast_left</th>\n",
       "      <th>breast_right</th>\n",
       "      <th>breast-quad_?</th>\n",
       "      <th>breast-quad_central</th>\n",
       "      <th>breast-quad_left_low</th>\n",
       "      <th>breast-quad_left_up</th>\n",
       "      <th>breast-quad_right_low</th>\n",
       "      <th>breast-quad_right_up</th>\n",
       "      <th>irradiat_no</th>\n",
       "      <th>irradiat_yes</th>\n",
       "    </tr>\n",
       "  </thead>\n",
       "  <tbody>\n",
       "    <tr>\n",
       "      <th>count</th>\n",
       "      <td>286.000000</td>\n",
       "      <td>286.000000</td>\n",
       "      <td>286.000000</td>\n",
       "      <td>286.000000</td>\n",
       "      <td>286.000000</td>\n",
       "      <td>286.000000</td>\n",
       "      <td>286.000000</td>\n",
       "      <td>286.000000</td>\n",
       "      <td>286.000000</td>\n",
       "      <td>286.000000</td>\n",
       "      <td>...</td>\n",
       "      <td>286.000000</td>\n",
       "      <td>286.000000</td>\n",
       "      <td>286.000000</td>\n",
       "      <td>286.000000</td>\n",
       "      <td>286.000000</td>\n",
       "      <td>286.000000</td>\n",
       "      <td>286.000000</td>\n",
       "      <td>286.000000</td>\n",
       "      <td>286.000000</td>\n",
       "      <td>286.000000</td>\n",
       "    </tr>\n",
       "    <tr>\n",
       "      <th>mean</th>\n",
       "      <td>0.297203</td>\n",
       "      <td>51.143357</td>\n",
       "      <td>26.405594</td>\n",
       "      <td>2.573427</td>\n",
       "      <td>2.048951</td>\n",
       "      <td>0.451049</td>\n",
       "      <td>0.024476</td>\n",
       "      <td>0.524476</td>\n",
       "      <td>0.027972</td>\n",
       "      <td>0.776224</td>\n",
       "      <td>...</td>\n",
       "      <td>0.531469</td>\n",
       "      <td>0.468531</td>\n",
       "      <td>0.003497</td>\n",
       "      <td>0.073427</td>\n",
       "      <td>0.384615</td>\n",
       "      <td>0.339161</td>\n",
       "      <td>0.083916</td>\n",
       "      <td>0.115385</td>\n",
       "      <td>0.762238</td>\n",
       "      <td>0.237762</td>\n",
       "    </tr>\n",
       "    <tr>\n",
       "      <th>std</th>\n",
       "      <td>0.457828</td>\n",
       "      <td>10.118183</td>\n",
       "      <td>10.529649</td>\n",
       "      <td>3.451904</td>\n",
       "      <td>0.738217</td>\n",
       "      <td>0.498470</td>\n",
       "      <td>0.154791</td>\n",
       "      <td>0.500276</td>\n",
       "      <td>0.165182</td>\n",
       "      <td>0.417504</td>\n",
       "      <td>...</td>\n",
       "      <td>0.499883</td>\n",
       "      <td>0.499883</td>\n",
       "      <td>0.059131</td>\n",
       "      <td>0.261293</td>\n",
       "      <td>0.487357</td>\n",
       "      <td>0.474254</td>\n",
       "      <td>0.277748</td>\n",
       "      <td>0.320046</td>\n",
       "      <td>0.426459</td>\n",
       "      <td>0.426459</td>\n",
       "    </tr>\n",
       "    <tr>\n",
       "      <th>min</th>\n",
       "      <td>0.000000</td>\n",
       "      <td>24.500000</td>\n",
       "      <td>2.000000</td>\n",
       "      <td>1.000000</td>\n",
       "      <td>1.000000</td>\n",
       "      <td>0.000000</td>\n",
       "      <td>0.000000</td>\n",
       "      <td>0.000000</td>\n",
       "      <td>0.000000</td>\n",
       "      <td>0.000000</td>\n",
       "      <td>...</td>\n",
       "      <td>0.000000</td>\n",
       "      <td>0.000000</td>\n",
       "      <td>0.000000</td>\n",
       "      <td>0.000000</td>\n",
       "      <td>0.000000</td>\n",
       "      <td>0.000000</td>\n",
       "      <td>0.000000</td>\n",
       "      <td>0.000000</td>\n",
       "      <td>0.000000</td>\n",
       "      <td>0.000000</td>\n",
       "    </tr>\n",
       "    <tr>\n",
       "      <th>25%</th>\n",
       "      <td>0.000000</td>\n",
       "      <td>44.500000</td>\n",
       "      <td>22.000000</td>\n",
       "      <td>1.000000</td>\n",
       "      <td>2.000000</td>\n",
       "      <td>0.000000</td>\n",
       "      <td>0.000000</td>\n",
       "      <td>0.000000</td>\n",
       "      <td>0.000000</td>\n",
       "      <td>1.000000</td>\n",
       "      <td>...</td>\n",
       "      <td>0.000000</td>\n",
       "      <td>0.000000</td>\n",
       "      <td>0.000000</td>\n",
       "      <td>0.000000</td>\n",
       "      <td>0.000000</td>\n",
       "      <td>0.000000</td>\n",
       "      <td>0.000000</td>\n",
       "      <td>0.000000</td>\n",
       "      <td>1.000000</td>\n",
       "      <td>0.000000</td>\n",
       "    </tr>\n",
       "    <tr>\n",
       "      <th>50%</th>\n",
       "      <td>0.000000</td>\n",
       "      <td>54.500000</td>\n",
       "      <td>27.000000</td>\n",
       "      <td>1.000000</td>\n",
       "      <td>2.000000</td>\n",
       "      <td>0.000000</td>\n",
       "      <td>0.000000</td>\n",
       "      <td>1.000000</td>\n",
       "      <td>0.000000</td>\n",
       "      <td>1.000000</td>\n",
       "      <td>...</td>\n",
       "      <td>1.000000</td>\n",
       "      <td>0.000000</td>\n",
       "      <td>0.000000</td>\n",
       "      <td>0.000000</td>\n",
       "      <td>0.000000</td>\n",
       "      <td>0.000000</td>\n",
       "      <td>0.000000</td>\n",
       "      <td>0.000000</td>\n",
       "      <td>1.000000</td>\n",
       "      <td>0.000000</td>\n",
       "    </tr>\n",
       "    <tr>\n",
       "      <th>75%</th>\n",
       "      <td>1.000000</td>\n",
       "      <td>54.500000</td>\n",
       "      <td>32.000000</td>\n",
       "      <td>4.000000</td>\n",
       "      <td>3.000000</td>\n",
       "      <td>1.000000</td>\n",
       "      <td>0.000000</td>\n",
       "      <td>1.000000</td>\n",
       "      <td>0.000000</td>\n",
       "      <td>1.000000</td>\n",
       "      <td>...</td>\n",
       "      <td>1.000000</td>\n",
       "      <td>1.000000</td>\n",
       "      <td>0.000000</td>\n",
       "      <td>0.000000</td>\n",
       "      <td>1.000000</td>\n",
       "      <td>1.000000</td>\n",
       "      <td>0.000000</td>\n",
       "      <td>0.000000</td>\n",
       "      <td>1.000000</td>\n",
       "      <td>0.000000</td>\n",
       "    </tr>\n",
       "    <tr>\n",
       "      <th>max</th>\n",
       "      <td>1.000000</td>\n",
       "      <td>74.500000</td>\n",
       "      <td>52.000000</td>\n",
       "      <td>25.000000</td>\n",
       "      <td>3.000000</td>\n",
       "      <td>1.000000</td>\n",
       "      <td>1.000000</td>\n",
       "      <td>1.000000</td>\n",
       "      <td>1.000000</td>\n",
       "      <td>1.000000</td>\n",
       "      <td>...</td>\n",
       "      <td>1.000000</td>\n",
       "      <td>1.000000</td>\n",
       "      <td>1.000000</td>\n",
       "      <td>1.000000</td>\n",
       "      <td>1.000000</td>\n",
       "      <td>1.000000</td>\n",
       "      <td>1.000000</td>\n",
       "      <td>1.000000</td>\n",
       "      <td>1.000000</td>\n",
       "      <td>1.000000</td>\n",
       "    </tr>\n",
       "  </tbody>\n",
       "</table>\n",
       "<p>8 rows × 21 columns</p>\n",
       "</div>"
      ],
      "text/plain": [
       "            Class         age  tumor-size   inv-nodes   deg-malig  \\\n",
       "count  286.000000  286.000000  286.000000  286.000000  286.000000   \n",
       "mean     0.297203   51.143357   26.405594    2.573427    2.048951   \n",
       "std      0.457828   10.118183   10.529649    3.451904    0.738217   \n",
       "min      0.000000   24.500000    2.000000    1.000000    1.000000   \n",
       "25%      0.000000   44.500000   22.000000    1.000000    2.000000   \n",
       "50%      0.000000   54.500000   27.000000    1.000000    2.000000   \n",
       "75%      1.000000   54.500000   32.000000    4.000000    3.000000   \n",
       "max      1.000000   74.500000   52.000000   25.000000    3.000000   \n",
       "\n",
       "       menopause_ge40  menopause_lt40  menopause_premeno  node-caps_?  \\\n",
       "count      286.000000      286.000000         286.000000   286.000000   \n",
       "mean         0.451049        0.024476           0.524476     0.027972   \n",
       "std          0.498470        0.154791           0.500276     0.165182   \n",
       "min          0.000000        0.000000           0.000000     0.000000   \n",
       "25%          0.000000        0.000000           0.000000     0.000000   \n",
       "50%          0.000000        0.000000           1.000000     0.000000   \n",
       "75%          1.000000        0.000000           1.000000     0.000000   \n",
       "max          1.000000        1.000000           1.000000     1.000000   \n",
       "\n",
       "       node-caps_no  ...  breast_left  breast_right  breast-quad_?  \\\n",
       "count    286.000000  ...   286.000000    286.000000     286.000000   \n",
       "mean       0.776224  ...     0.531469      0.468531       0.003497   \n",
       "std        0.417504  ...     0.499883      0.499883       0.059131   \n",
       "min        0.000000  ...     0.000000      0.000000       0.000000   \n",
       "25%        1.000000  ...     0.000000      0.000000       0.000000   \n",
       "50%        1.000000  ...     1.000000      0.000000       0.000000   \n",
       "75%        1.000000  ...     1.000000      1.000000       0.000000   \n",
       "max        1.000000  ...     1.000000      1.000000       1.000000   \n",
       "\n",
       "       breast-quad_central  breast-quad_left_low  breast-quad_left_up  \\\n",
       "count           286.000000            286.000000           286.000000   \n",
       "mean              0.073427              0.384615             0.339161   \n",
       "std               0.261293              0.487357             0.474254   \n",
       "min               0.000000              0.000000             0.000000   \n",
       "25%               0.000000              0.000000             0.000000   \n",
       "50%               0.000000              0.000000             0.000000   \n",
       "75%               0.000000              1.000000             1.000000   \n",
       "max               1.000000              1.000000             1.000000   \n",
       "\n",
       "       breast-quad_right_low  breast-quad_right_up  irradiat_no  irradiat_yes  \n",
       "count             286.000000            286.000000   286.000000    286.000000  \n",
       "mean                0.083916              0.115385     0.762238      0.237762  \n",
       "std                 0.277748              0.320046     0.426459      0.426459  \n",
       "min                 0.000000              0.000000     0.000000      0.000000  \n",
       "25%                 0.000000              0.000000     1.000000      0.000000  \n",
       "50%                 0.000000              0.000000     1.000000      0.000000  \n",
       "75%                 0.000000              0.000000     1.000000      0.000000  \n",
       "max                 1.000000              1.000000     1.000000      1.000000  \n",
       "\n",
       "[8 rows x 21 columns]"
      ]
     },
     "execution_count": 11,
     "metadata": {},
     "output_type": "execute_result"
    }
   ],
   "source": [
    "df_numeric.describe()"
   ]
  },
  {
   "cell_type": "markdown",
   "metadata": {},
   "source": [
    "#### 2.2 Wizualizacja danych"
   ]
  },
  {
   "cell_type": "markdown",
   "metadata": {},
   "source": [
    "Korelacje:"
   ]
  },
  {
   "cell_type": "code",
   "execution_count": 12,
   "metadata": {},
   "outputs": [
    {
     "data": {
      "image/png": "[encoded data removed]",
      "text/plain": [
       "<Figure size 1080x792 with 2 Axes>"
      ]
     },
     "metadata": {
      "needs_background": "light"
     },
     "output_type": "display_data"
    }
   ],
   "source": [
    "corr = df_numeric.corr()\n",
    "\n",
    "f, ax = plt.subplots(figsize=(15, 11))\n",
    "sns.heatmap(corr)\n",
    "plt.show()"
   ]
  },
  {
   "cell_type": "markdown",
   "metadata": {},
   "source": [
    "##### 2.3 Przygotowanie danych do uczenia"
   ]
  },
  {
   "cell_type": "code",
   "execution_count": 20,
   "metadata": {},
   "outputs": [],
   "source": [
    "y = df_numeric['Class']\n",
    "X = df_numeric.drop('Class', axis=1)\n",
    "\n",
    "X_train, X_test, y_train, y_test = train_test_split(X, y, test_size=0.2, random_state=421, shuffle=True)"
   ]
  },
  {
   "cell_type": "markdown",
   "metadata": {},
   "source": [
    "### 3. Model - regresja logistyczna"
   ]
  },
  {
   "cell_type": "markdown",
   "metadata": {},
   "source": [
    "Użyjemy modelu regresji logistycznej - na początek wersja bazowa, dla całego zbioru danych uczących, bez żadnej selekcji cech oraz z domyślnymi parametrami modelu."
   ]
  },
  {
   "cell_type": "code",
   "execution_count": 48,
   "metadata": {},
   "outputs": [
    {
     "data": {
      "text/plain": [
       "0.6724137931034483"
      ]
     },
     "execution_count": 48,
     "metadata": {},
     "output_type": "execute_result"
    }
   ],
   "source": [
    "clf = linear_model.LogisticRegression()\n",
    "clf.fit(X_train, y_train)\n",
    "\n",
    "clf.score(X_test, y_test)"
   ]
  },
  {
   "cell_type": "code",
   "execution_count": 78,
   "metadata": {},
   "outputs": [],
   "source": [
    "from typing import List, Tuple\n",
    "from numbers import Number\n",
    "\n",
    "\n",
    "def evaluate_clf(model, K: int = 10, metric: str = 'accuracy', verbose: bool = False, *args, **kwargs) -> Tuple[np.ndarray, np.float]:\n",
    "    kf = KFold(n_splits=K, shuffle=True)\n",
    "    scores: List[Number] = []\n",
    "    \n",
    "    for k, (train_index, test_index) in enumerate(kf.split(X, y)):\n",
    "        X_train, X_test = X.iloc[train_index], X.iloc[test_index]\n",
    "        y_train, y_test = y.iloc[train_index], y.iloc[test_index]\n",
    "        \n",
    "        clf = model(*args, **kwargs)\n",
    "\n",
    "        clf.fit(X_train, y_train)\n",
    "        y_pred = clf.predict(X_test)\n",
    "        score = metrics.accuracy_score(y_test, y_pred)\n",
    "        scores.append(score)\n",
    "        if verbose:\n",
    "            print(f'[{k}] score: {score}')\n",
    "    \n",
    "    scores: np.ndarray[Number] = np.array(scores)\n",
    "    avg = scores.mean()\n",
    "    \n",
    "    if verbose:\n",
    "        plt.figure(figsize=(10, 5))\n",
    "        ax = sns.lineplot(data=scores, marker='o', color='#965786')\n",
    "        max_score = scores.max()\n",
    "\n",
    "        ax.set_title(f'Scores: {metric}, clf: {clf.__class__.__name__}, avg: {avg:.2f}, max: {max_score:.2f}')\n",
    "        ax.set(xlabel=f'{K}-cross validation', ylabel=f'{metric}')\n",
    "        plt.show()\n",
    "    \n",
    "    return scores, avg"
   ]
  },
  {
   "cell_type": "code",
   "execution_count": 79,
   "metadata": {},
   "outputs": [
    {
     "name": "stdout",
     "output_type": "stream",
     "text": [
      "[0] score: 0.7241379310344828\n",
      "[1] score: 0.6551724137931034\n",
      "[2] score: 0.7931034482758621\n",
      "[3] score: 0.7586206896551724\n",
      "[4] score: 0.5862068965517241\n",
      "[5] score: 0.6206896551724138\n",
      "[6] score: 0.6428571428571429\n",
      "[7] score: 0.75\n",
      "[8] score: 0.6785714285714286\n",
      "[9] score: 0.7142857142857143\n"
     ]
    },
    {
     "data": {
      "image/png": "[encoded data removed]",
      "text/plain": [
       "<Figure size 720x360 with 1 Axes>"
      ]
     },
     "metadata": {
      "needs_background": "light"
     },
     "output_type": "display_data"
    },
    {
     "data": {
      "text/plain": [
       "(array([0.72413793, 0.65517241, 0.79310345, 0.75862069, 0.5862069 ,\n",
       "        0.62068966, 0.64285714, 0.75      , 0.67857143, 0.71428571]),\n",
       " 0.6923645320197045)"
      ]
     },
     "execution_count": 79,
     "metadata": {},
     "output_type": "execute_result"
    }
   ],
   "source": [
    "evaluate_clf(linear_model.LogisticRegression, verbose=True)"
   ]
  },
  {
   "cell_type": "markdown",
   "metadata": {},
   "source": [
    "##### 3.1 Szukanie optymalnych parametrów dla wszystkich danych - na bazie metryki czułości"
   ]
  },
  {
   "cell_type": "markdown",
   "metadata": {},
   "source": [
    "Wrażliwość / czułość - (wskaźnik prawdziwie pozytywnych wyników) mierzy odsetek pozytywnych wyników, które są prawidłowo zidentyfikowane (tj. Odsetek osób z jakimś stanem (dotkniętym chorobą), które zostały prawidłowo zidentyfikowane jako osoby z daną chorobą)."
   ]
  },
  {
   "cell_type": "markdown",
   "metadata": {},
   "source": [
    "https://en.wikipedia.org/wiki/Sensitivity_and_specificity#Sensitivity"
   ]
  },
  {
   "cell_type": "code",
   "execution_count": 80,
   "metadata": {},
   "outputs": [],
   "source": [
    "def get_sensitivity(y_true, y_pred) -> np.float:\n",
    "    tn, fp, fn, tp = confusion_matrix(y_true, y_pred).ravel()\n",
    "    return tp / (tp + fn)"
   ]
  },
  {
   "cell_type": "code",
   "execution_count": 81,
   "metadata": {},
   "outputs": [
    {
     "name": "stdout",
     "output_type": "stream",
     "text": [
      "LogisticRegression [C=0.0001, penalty=l1] -> 0.0\n",
      "LogisticRegression [C=0.0001, penalty=l2] -> 0.0\n",
      "LogisticRegression [C=0.0001, penalty=none] -> 0.21052631578947367\n",
      "LogisticRegression [C=0.000774263682681127, penalty=l1] -> 0.0\n",
      "LogisticRegression [C=0.000774263682681127, penalty=l2] -> 0.0\n",
      "LogisticRegression [C=0.000774263682681127, penalty=none] -> 0.21052631578947367\n",
      "LogisticRegression [C=0.005994842503189409, penalty=l1] -> 0.0\n",
      "LogisticRegression [C=0.005994842503189409, penalty=l2] -> 0.10526315789473684\n",
      "LogisticRegression [C=0.005994842503189409, penalty=none] -> 0.21052631578947367\n",
      "LogisticRegression [C=0.046415888336127774, penalty=l1] -> 0.15789473684210525\n",
      "LogisticRegression [C=0.046415888336127774, penalty=l2] -> 0.21052631578947367\n",
      "LogisticRegression [C=0.046415888336127774, penalty=none] -> 0.21052631578947367\n",
      "LogisticRegression [C=0.3593813663804626, penalty=l1] -> 0.15789473684210525\n",
      "LogisticRegression [C=0.3593813663804626, penalty=l2] -> 0.15789473684210525\n",
      "LogisticRegression [C=0.3593813663804626, penalty=none] -> 0.21052631578947367\n",
      "LogisticRegression [C=2.782559402207126, penalty=l1] -> 0.15789473684210525\n",
      "LogisticRegression [C=2.782559402207126, penalty=l2] -> 0.15789473684210525\n",
      "LogisticRegression [C=2.782559402207126, penalty=none] -> 0.21052631578947367\n",
      "LogisticRegression [C=21.54434690031882, penalty=l1] -> 0.15789473684210525\n",
      "LogisticRegression [C=21.54434690031882, penalty=l2] -> 0.15789473684210525\n",
      "LogisticRegression [C=21.54434690031882, penalty=none] -> 0.21052631578947367\n",
      "LogisticRegression [C=166.81005372000558, penalty=l1] -> 0.15789473684210525\n",
      "LogisticRegression [C=166.81005372000558, penalty=l2] -> 0.21052631578947367\n",
      "LogisticRegression [C=166.81005372000558, penalty=none] -> 0.21052631578947367\n",
      "LogisticRegression [C=1291.5496650148827, penalty=l1] -> 0.15789473684210525\n",
      "LogisticRegression [C=1291.5496650148827, penalty=l2] -> 0.15789473684210525\n",
      "LogisticRegression [C=1291.5496650148827, penalty=none] -> 0.21052631578947367\n",
      "LogisticRegression [C=10000.0, penalty=l1] -> 0.15789473684210525\n",
      "LogisticRegression [C=10000.0, penalty=l2] -> 0.15789473684210525\n",
      "LogisticRegression [C=10000.0, penalty=none] -> 0.21052631578947367\n",
      "Najwyższa czułość wyniosła: 0.21052631578947367\n"
     ]
    }
   ],
   "source": [
    "best_sens = 0\n",
    "\n",
    "for C in np.logspace(-4, 4, 10):\n",
    "    for penalty in ('l1', 'l2', 'none'):\n",
    "        solver = 'lbfgs' if penalty in ['l2', 'none'] else 'saga' \n",
    "        \n",
    "        clf = linear_model.LogisticRegression(C=C, penalty=penalty, solver=solver)\n",
    "        if penalty == 'l1':\n",
    "            for l1_ratio in np.linspace(0, 1, 10):\n",
    "                clf = linear_model.LogisticRegression(C=C, penalty=penalty, l1_ratio=l1_ratio, solver=solver)\n",
    "\n",
    "        clf.fit(X_train, y_train)        \n",
    "        y_pred = clf.predict(X_test)\n",
    "        \n",
    "        sensivivity = get_sensitivity(y_test, y_pred)\n",
    "\n",
    "        if sensivivity > best_sens:\n",
    "            best_clf = clf\n",
    "            best_sens = sensivivity\n",
    "        \n",
    "        print(f\"{clf.__class__.__name__} [C={C}, penalty={penalty}] -> {sensivivity}\")\n",
    "print(f\"Najwyższa czułość wyniosła: {best_sens}\")"
   ]
  },
  {
   "cell_type": "code",
   "execution_count": 82,
   "metadata": {},
   "outputs": [
    {
     "data": {
      "text/plain": [
       "LogisticRegression(C=0.0001, penalty='none')"
      ]
     },
     "execution_count": 82,
     "metadata": {},
     "output_type": "execute_result"
    }
   ],
   "source": [
    "best_clf"
   ]
  },
  {
   "cell_type": "code",
   "execution_count": 83,
   "metadata": {},
   "outputs": [
    {
     "name": "stdout",
     "output_type": "stream",
     "text": [
      "[0] score: 0.8275862068965517\n",
      "[1] score: 0.5862068965517241\n",
      "[2] score: 0.7586206896551724\n",
      "[3] score: 0.6896551724137931\n",
      "[4] score: 0.6896551724137931\n",
      "[5] score: 0.6206896551724138\n",
      "[6] score: 0.5357142857142857\n",
      "[7] score: 0.7857142857142857\n",
      "[8] score: 0.6428571428571429\n",
      "[9] score: 0.7857142857142857\n"
     ]
    },
    {
     "data": {
      "image/png": "[encoded data removed]",
      "text/plain": [
       "<Figure size 720x360 with 1 Axes>"
      ]
     },
     "metadata": {
      "needs_background": "light"
     },
     "output_type": "display_data"
    },
    {
     "data": {
      "text/plain": [
       "(array([0.82758621, 0.5862069 , 0.75862069, 0.68965517, 0.68965517,\n",
       "        0.62068966, 0.53571429, 0.78571429, 0.64285714, 0.78571429]),\n",
       " 0.6922413793103448)"
      ]
     },
     "execution_count": 83,
     "metadata": {},
     "output_type": "execute_result"
    }
   ],
   "source": [
    "evaluate_clf(linear_model.LogisticRegression, verbose=True, C=0.0001, penalty='none')"
   ]
  },
  {
   "cell_type": "markdown",
   "metadata": {},
   "source": [
    "##### 3.2 Macierz pomyłek dla najlepszego znalezionego klasyfikatora"
   ]
  },
  {
   "cell_type": "code",
   "execution_count": 84,
   "metadata": {},
   "outputs": [
    {
     "data": {
      "image/png": "[encoded data removed]",
      "text/plain": [
       "<Figure size 432x288 with 2 Axes>"
      ]
     },
     "metadata": {
      "needs_background": "light"
     },
     "output_type": "display_data"
    }
   ],
   "source": [
    "plot_confusion_matrix(best_clf, X_test, y_test)\n",
    "plt.show()"
   ]
  },
  {
   "cell_type": "markdown",
   "metadata": {},
   "source": [
    "### 4. Zbadanie wpływu normalizacji, standaryzacji i PCA"
   ]
  },
  {
   "cell_type": "markdown",
   "metadata": {},
   "source": [
    "#### 4.1 Normalizacja"
   ]
  },
  {
   "cell_type": "code",
   "execution_count": 87,
   "metadata": {},
   "outputs": [],
   "source": [
    "from sklearn import preprocessing\n",
    "\n",
    "normalizer  = preprocessing.Normalizer()\n",
    "\n",
    "X_norm_train = normalizer.fit_transform(X_train)\n",
    "X_norm_test = normalizer.fit_transform(X_test)\n",
    "\n",
    "X_norm_train = pd.DataFrame(X_norm_train)\n",
    "X_norm_test = pd.DataFrame(X_norm_test)"
   ]
  },
  {
   "cell_type": "markdown",
   "metadata": {},
   "source": [
    "Szukamy teraz klasyfikatora dla znormalizowanych danych"
   ]
  },
  {
   "cell_type": "code",
   "execution_count": 88,
   "metadata": {},
   "outputs": [
    {
     "name": "stdout",
     "output_type": "stream",
     "text": [
      "LogisticRegression [C=0.0001, penalty=l1] -> 0.0\n",
      "LogisticRegression [C=0.0001, penalty=l2] -> 0.0\n",
      "LogisticRegression [C=0.0001, penalty=none] -> 0.21052631578947367\n",
      "LogisticRegression [C=0.000774263682681127, penalty=l1] -> 0.0\n",
      "LogisticRegression [C=0.000774263682681127, penalty=l2] -> 0.0\n",
      "LogisticRegression [C=0.000774263682681127, penalty=none] -> 0.21052631578947367\n",
      "LogisticRegression [C=0.005994842503189409, penalty=l1] -> 0.0\n",
      "LogisticRegression [C=0.005994842503189409, penalty=l2] -> 0.0\n",
      "LogisticRegression [C=0.005994842503189409, penalty=none] -> 0.21052631578947367\n",
      "LogisticRegression [C=0.046415888336127774, penalty=l1] -> 0.0\n",
      "LogisticRegression [C=0.046415888336127774, penalty=l2] -> 0.0\n",
      "LogisticRegression [C=0.046415888336127774, penalty=none] -> 0.21052631578947367\n",
      "LogisticRegression [C=0.3593813663804626, penalty=l1] -> 0.0\n",
      "LogisticRegression [C=0.3593813663804626, penalty=l2] -> 0.0\n",
      "LogisticRegression [C=0.3593813663804626, penalty=none] -> 0.21052631578947367\n",
      "LogisticRegression [C=2.782559402207126, penalty=l1] -> 0.15789473684210525\n",
      "LogisticRegression [C=2.782559402207126, penalty=l2] -> 0.05263157894736842\n",
      "LogisticRegression [C=2.782559402207126, penalty=none] -> 0.21052631578947367\n",
      "LogisticRegression [C=21.54434690031882, penalty=l1] -> 0.15789473684210525\n",
      "LogisticRegression [C=21.54434690031882, penalty=l2] -> 0.15789473684210525\n",
      "LogisticRegression [C=21.54434690031882, penalty=none] -> 0.21052631578947367\n",
      "LogisticRegression [C=166.81005372000558, penalty=l1] -> 0.15789473684210525\n",
      "LogisticRegression [C=166.81005372000558, penalty=l2] -> 0.15789473684210525\n",
      "LogisticRegression [C=166.81005372000558, penalty=none] -> 0.21052631578947367\n",
      "LogisticRegression [C=1291.5496650148827, penalty=l1] -> 0.15789473684210525\n",
      "LogisticRegression [C=1291.5496650148827, penalty=l2] -> 0.21052631578947367\n",
      "LogisticRegression [C=1291.5496650148827, penalty=none] -> 0.21052631578947367\n",
      "LogisticRegression [C=10000.0, penalty=l1] -> 0.15789473684210525\n",
      "LogisticRegression [C=10000.0, penalty=l2] -> 0.21052631578947367\n",
      "LogisticRegression [C=10000.0, penalty=none] -> 0.21052631578947367\n",
      "Najwyższa czułość wyniosła: 0.21052631578947367\n"
     ]
    }
   ],
   "source": [
    "best_sens = 0\n",
    "\n",
    "for C in np.logspace(-4, 4, 10):\n",
    "    for penalty in ('l1', 'l2', 'none'):\n",
    "        solver = 'lbfgs' if penalty in ['l2', 'none'] else 'saga' \n",
    "        \n",
    "        clf = linear_model.LogisticRegression(C=C, penalty=penalty, solver=solver)\n",
    "        if penalty == 'l1':\n",
    "            for l1_ratio in np.linspace(0, 1, 10):\n",
    "                clf = linear_model.LogisticRegression(C=C, penalty=penalty, l1_ratio=l1_ratio, solver=solver)\n",
    "\n",
    "        clf.fit(X_norm_train, y_train)        \n",
    "        y_pred = clf.predict(X_norm_test)\n",
    "        \n",
    "        sensivivity = get_sensitivity(y_test, y_pred)\n",
    "\n",
    "        if sensivivity > best_sens:\n",
    "            best_clf = clf\n",
    "            best_sens = sensivivity\n",
    "        \n",
    "        print(f\"{clf.__class__.__name__} [C={C}, penalty={penalty}] -> {sensivivity}\")\n",
    "print(f\"Najwyższa czułość wyniosła: {best_sens}\")"
   ]
  },
  {
   "cell_type": "code",
   "execution_count": 89,
   "metadata": {},
   "outputs": [
    {
     "data": {
      "image/png": "[encoded data removed]",
      "text/plain": [
       "<Figure size 432x288 with 2 Axes>"
      ]
     },
     "metadata": {
      "needs_background": "light"
     },
     "output_type": "display_data"
    }
   ],
   "source": [
    "plot_confusion_matrix(best_clf, X_norm_test, y_test)\n",
    "plt.show()"
   ]
  },
  {
   "cell_type": "markdown",
   "metadata": {},
   "source": [
    "#### 4.2 Standaryzacja"
   ]
  },
  {
   "cell_type": "code",
   "execution_count": 90,
   "metadata": {},
   "outputs": [],
   "source": [
    "from sklearn import preprocessing\n",
    "\n",
    "standard_scaler  = preprocessing.StandardScaler()\n",
    "\n",
    "X_std_train = standard_scaler.fit_transform(X_train)\n",
    "X_std_test = standard_scaler.fit_transform(X_test)\n",
    "\n",
    "X_std_train = pd.DataFrame(X_std_train)\n",
    "X_std_test = pd.DataFrame(X_std_test)"
   ]
  },
  {
   "cell_type": "markdown",
   "metadata": {},
   "source": [
    "Szukamy teraz klasyfikatora dla ustandaryzowanych danych"
   ]
  },
  {
   "cell_type": "code",
   "execution_count": 91,
   "metadata": {},
   "outputs": [
    {
     "name": "stdout",
     "output_type": "stream",
     "text": [
      "LogisticRegression [C=0.0001, penalty=l1] -> 0.0\n",
      "LogisticRegression [C=0.0001, penalty=l2] -> 0.0\n",
      "LogisticRegression [C=0.0001, penalty=none] -> 0.2631578947368421\n",
      "LogisticRegression [C=0.000774263682681127, penalty=l1] -> 0.0\n",
      "LogisticRegression [C=0.000774263682681127, penalty=l2] -> 0.0\n",
      "LogisticRegression [C=0.000774263682681127, penalty=none] -> 0.2631578947368421\n",
      "LogisticRegression [C=0.005994842503189409, penalty=l1] -> 0.0\n",
      "LogisticRegression [C=0.005994842503189409, penalty=l2] -> 0.0\n",
      "LogisticRegression [C=0.005994842503189409, penalty=none] -> 0.2631578947368421\n",
      "LogisticRegression [C=0.046415888336127774, penalty=l1] -> 0.0\n",
      "LogisticRegression [C=0.046415888336127774, penalty=l2] -> 0.15789473684210525\n",
      "LogisticRegression [C=0.046415888336127774, penalty=none] -> 0.2631578947368421\n",
      "LogisticRegression [C=0.3593813663804626, penalty=l1] -> 0.15789473684210525\n",
      "LogisticRegression [C=0.3593813663804626, penalty=l2] -> 0.15789473684210525\n",
      "LogisticRegression [C=0.3593813663804626, penalty=none] -> 0.2631578947368421\n",
      "LogisticRegression [C=2.782559402207126, penalty=l1] -> 0.21052631578947367\n",
      "LogisticRegression [C=2.782559402207126, penalty=l2] -> 0.2631578947368421\n",
      "LogisticRegression [C=2.782559402207126, penalty=none] -> 0.2631578947368421\n",
      "LogisticRegression [C=21.54434690031882, penalty=l1] -> 0.2631578947368421\n",
      "LogisticRegression [C=21.54434690031882, penalty=l2] -> 0.2631578947368421\n",
      "LogisticRegression [C=21.54434690031882, penalty=none] -> 0.2631578947368421\n",
      "LogisticRegression [C=166.81005372000558, penalty=l1] -> 0.2631578947368421\n",
      "LogisticRegression [C=166.81005372000558, penalty=l2] -> 0.2631578947368421\n",
      "LogisticRegression [C=166.81005372000558, penalty=none] -> 0.2631578947368421\n",
      "LogisticRegression [C=1291.5496650148827, penalty=l1] -> 0.2631578947368421\n",
      "LogisticRegression [C=1291.5496650148827, penalty=l2] -> 0.2631578947368421\n",
      "LogisticRegression [C=1291.5496650148827, penalty=none] -> 0.2631578947368421\n",
      "LogisticRegression [C=10000.0, penalty=l1] -> 0.2631578947368421\n",
      "LogisticRegression [C=10000.0, penalty=l2] -> 0.2631578947368421\n",
      "LogisticRegression [C=10000.0, penalty=none] -> 0.2631578947368421\n",
      "Najwyższa czułość wyniosła: 0.2631578947368421\n"
     ]
    }
   ],
   "source": [
    "best_sens = 0\n",
    "\n",
    "for C in np.logspace(-4, 4, 10):\n",
    "    for penalty in ('l1', 'l2', 'none'):\n",
    "        solver = 'lbfgs' if penalty in ['l2', 'none'] else 'saga' \n",
    "        \n",
    "        clf = linear_model.LogisticRegression(C=C, penalty=penalty, solver=solver)\n",
    "        if penalty == 'l1':\n",
    "            for l1_ratio in np.linspace(0, 1, 10):\n",
    "                clf = linear_model.LogisticRegression(C=C, penalty=penalty, l1_ratio=l1_ratio, solver=solver)\n",
    "\n",
    "        clf.fit(X_std_train, y_train)        \n",
    "        y_pred = clf.predict(X_std_test)\n",
    "        \n",
    "        sensivivity = get_sensitivity(y_test, y_pred)\n",
    "\n",
    "        if sensivivity > best_sens:\n",
    "            best_clf = clf\n",
    "            best_sens = sensivivity\n",
    "        \n",
    "        print(f\"{clf.__class__.__name__} [C={C}, penalty={penalty}] -> {sensivivity}\")\n",
    "print(f\"Najwyższa czułość wyniosła: {best_sens}\")"
   ]
  },
  {
   "cell_type": "code",
   "execution_count": 92,
   "metadata": {},
   "outputs": [
    {
     "data": {
      "image/png": "[encoded data removed]",
      "text/plain": [
       "<Figure size 432x288 with 2 Axes>"
      ]
     },
     "metadata": {
      "needs_background": "light"
     },
     "output_type": "display_data"
    }
   ],
   "source": [
    "plot_confusion_matrix(best_clf, X_std_test, y_test)\n",
    "plt.show()"
   ]
  },
  {
   "cell_type": "markdown",
   "metadata": {},
   "source": [
    "#### 4.3 Analiza głównych składowych - PCA"
   ]
  },
  {
   "cell_type": "code",
   "execution_count": 93,
   "metadata": {},
   "outputs": [],
   "source": [
    "from sklearn.decomposition import PCA\n",
    "\n",
    "pca8 = PCA(n_components=8)\n",
    "\n",
    "X_train_pca = pca8.fit_transform(X_train)\n",
    "X_test_pca = pca8.fit_transform(X_test)\n",
    "\n",
    "X_train_pca = pd.DataFrame(X_train_pca)\n",
    "X_test_pca = pd.DataFrame(X_test_pca)"
   ]
  },
  {
   "cell_type": "code",
   "execution_count": 94,
   "metadata": {},
   "outputs": [
    {
     "name": "stdout",
     "output_type": "stream",
     "text": [
      "LogisticRegression [C=0.0001, penalty=l1] -> 0.0\n",
      "LogisticRegression [C=0.0001, penalty=l2] -> 0.0\n",
      "LogisticRegression [C=0.0001, penalty=none] -> 0.21052631578947367\n",
      "LogisticRegression [C=0.000774263682681127, penalty=l1] -> 0.0\n",
      "LogisticRegression [C=0.000774263682681127, penalty=l2] -> 0.0\n",
      "LogisticRegression [C=0.000774263682681127, penalty=none] -> 0.21052631578947367\n",
      "LogisticRegression [C=0.005994842503189409, penalty=l1] -> 0.0\n",
      "LogisticRegression [C=0.005994842503189409, penalty=l2] -> 0.15789473684210525\n",
      "LogisticRegression [C=0.005994842503189409, penalty=none] -> 0.21052631578947367\n",
      "LogisticRegression [C=0.046415888336127774, penalty=l1] -> 0.15789473684210525\n",
      "LogisticRegression [C=0.046415888336127774, penalty=l2] -> 0.15789473684210525\n",
      "LogisticRegression [C=0.046415888336127774, penalty=none] -> 0.21052631578947367\n",
      "LogisticRegression [C=0.3593813663804626, penalty=l1] -> 0.15789473684210525\n",
      "LogisticRegression [C=0.3593813663804626, penalty=l2] -> 0.10526315789473684\n",
      "LogisticRegression [C=0.3593813663804626, penalty=none] -> 0.21052631578947367\n",
      "LogisticRegression [C=2.782559402207126, penalty=l1] -> 0.10526315789473684\n",
      "LogisticRegression [C=2.782559402207126, penalty=l2] -> 0.21052631578947367\n",
      "LogisticRegression [C=2.782559402207126, penalty=none] -> 0.21052631578947367\n",
      "LogisticRegression [C=21.54434690031882, penalty=l1] -> 0.10526315789473684\n",
      "LogisticRegression [C=21.54434690031882, penalty=l2] -> 0.21052631578947367\n",
      "LogisticRegression [C=21.54434690031882, penalty=none] -> 0.21052631578947367\n",
      "LogisticRegression [C=166.81005372000558, penalty=l1] -> 0.10526315789473684\n",
      "LogisticRegression [C=166.81005372000558, penalty=l2] -> 0.21052631578947367\n",
      "LogisticRegression [C=166.81005372000558, penalty=none] -> 0.21052631578947367\n",
      "LogisticRegression [C=1291.5496650148827, penalty=l1] -> 0.10526315789473684\n",
      "LogisticRegression [C=1291.5496650148827, penalty=l2] -> 0.21052631578947367\n",
      "LogisticRegression [C=1291.5496650148827, penalty=none] -> 0.21052631578947367\n",
      "LogisticRegression [C=10000.0, penalty=l1] -> 0.10526315789473684\n",
      "LogisticRegression [C=10000.0, penalty=l2] -> 0.21052631578947367\n",
      "LogisticRegression [C=10000.0, penalty=none] -> 0.21052631578947367\n",
      "Najwyższa czułość wyniosła: 0.21052631578947367\n"
     ]
    }
   ],
   "source": [
    "best_sens = 0\n",
    "\n",
    "for C in np.logspace(-4, 4, 10):\n",
    "    for penalty in ('l1', 'l2', 'none'):\n",
    "        solver = 'lbfgs' if penalty in ['l2', 'none'] else 'saga' \n",
    "        \n",
    "        clf = linear_model.LogisticRegression(C=C, penalty=penalty, solver=solver)\n",
    "        if penalty == 'l1':\n",
    "            for l1_ratio in np.linspace(0, 1, 10):\n",
    "                clf = linear_model.LogisticRegression(C=C, penalty=penalty, l1_ratio=l1_ratio, solver=solver)\n",
    "\n",
    "        clf.fit(X_train_pca, y_train)        \n",
    "        y_pred = clf.predict(X_test_pca)\n",
    "        \n",
    "        sensivivity = get_sensitivity(y_test, y_pred)\n",
    "\n",
    "        if sensivivity > best_sens:\n",
    "            best_clf = clf\n",
    "            best_sens = sensivivity\n",
    "        \n",
    "        print(f\"{clf.__class__.__name__} [C={C}, penalty={penalty}] -> {sensivivity}\")\n",
    "print(f\"Najwyższa czułość wyniosła: {best_sens}\")"
   ]
  },
  {
   "cell_type": "code",
   "execution_count": 95,
   "metadata": {},
   "outputs": [
    {
     "data": {
      "image/png": "[encoded data removed]",
      "text/plain": [
       "<Figure size 432x288 with 2 Axes>"
      ]
     },
     "metadata": {
      "needs_background": "light"
     },
     "output_type": "display_data"
    }
   ],
   "source": [
    "plot_confusion_matrix(best_clf, X_test_pca, y_test)\n",
    "plt.show()"
   ]
  },
  {
   "cell_type": "markdown",
   "metadata": {},
   "source": [
    "Dla PCA z 5 głównymi składowymi"
   ]
  },
  {
   "cell_type": "code",
   "execution_count": 96,
   "metadata": {},
   "outputs": [],
   "source": [
    "pca5 = PCA(n_components=5)\n",
    "\n",
    "X_train_pca5 = pca5.fit_transform(X_train)\n",
    "X_test_pca5 = pca5.fit_transform(X_test)\n",
    "\n",
    "X_train_pca5 = pd.DataFrame(X_train_pca5)\n",
    "X_test_pca5 = pd.DataFrame(X_test_pca5)"
   ]
  },
  {
   "cell_type": "code",
   "execution_count": 97,
   "metadata": {},
   "outputs": [
    {
     "name": "stdout",
     "output_type": "stream",
     "text": [
      "LogisticRegression [C=0.0001, penalty=l1] -> 0.0\n",
      "LogisticRegression [C=0.0001, penalty=l2] -> 0.0\n",
      "LogisticRegression [C=0.0001, penalty=none] -> 0.15789473684210525\n",
      "LogisticRegression [C=0.000774263682681127, penalty=l1] -> 0.0\n",
      "LogisticRegression [C=0.000774263682681127, penalty=l2] -> 0.0\n",
      "LogisticRegression [C=0.000774263682681127, penalty=none] -> 0.15789473684210525\n",
      "LogisticRegression [C=0.005994842503189409, penalty=l1] -> 0.0\n",
      "LogisticRegression [C=0.005994842503189409, penalty=l2] -> 0.15789473684210525\n",
      "LogisticRegression [C=0.005994842503189409, penalty=none] -> 0.15789473684210525\n",
      "LogisticRegression [C=0.046415888336127774, penalty=l1] -> 0.15789473684210525\n",
      "LogisticRegression [C=0.046415888336127774, penalty=l2] -> 0.15789473684210525\n",
      "LogisticRegression [C=0.046415888336127774, penalty=none] -> 0.15789473684210525\n",
      "LogisticRegression [C=0.3593813663804626, penalty=l1] -> 0.15789473684210525\n",
      "LogisticRegression [C=0.3593813663804626, penalty=l2] -> 0.15789473684210525\n",
      "LogisticRegression [C=0.3593813663804626, penalty=none] -> 0.15789473684210525\n",
      "LogisticRegression [C=2.782559402207126, penalty=l1] -> 0.15789473684210525\n",
      "LogisticRegression [C=2.782559402207126, penalty=l2] -> 0.15789473684210525\n",
      "LogisticRegression [C=2.782559402207126, penalty=none] -> 0.15789473684210525\n",
      "LogisticRegression [C=21.54434690031882, penalty=l1] -> 0.15789473684210525\n",
      "LogisticRegression [C=21.54434690031882, penalty=l2] -> 0.15789473684210525\n",
      "LogisticRegression [C=21.54434690031882, penalty=none] -> 0.15789473684210525\n",
      "LogisticRegression [C=166.81005372000558, penalty=l1] -> 0.15789473684210525\n",
      "LogisticRegression [C=166.81005372000558, penalty=l2] -> 0.15789473684210525\n",
      "LogisticRegression [C=166.81005372000558, penalty=none] -> 0.15789473684210525\n",
      "LogisticRegression [C=1291.5496650148827, penalty=l1] -> 0.15789473684210525\n",
      "LogisticRegression [C=1291.5496650148827, penalty=l2] -> 0.15789473684210525\n",
      "LogisticRegression [C=1291.5496650148827, penalty=none] -> 0.15789473684210525\n",
      "LogisticRegression [C=10000.0, penalty=l1] -> 0.15789473684210525\n",
      "LogisticRegression [C=10000.0, penalty=l2] -> 0.15789473684210525\n",
      "LogisticRegression [C=10000.0, penalty=none] -> 0.15789473684210525\n",
      "Najwyższa czułość wyniosła: 0.15789473684210525\n"
     ]
    }
   ],
   "source": [
    "best_sens = 0\n",
    "\n",
    "for C in np.logspace(-4, 4, 10):\n",
    "    for penalty in ('l1', 'l2', 'none'):\n",
    "        solver = 'lbfgs' if penalty in ['l2', 'none'] else 'saga' \n",
    "        \n",
    "        clf = linear_model.LogisticRegression(C=C, penalty=penalty, solver=solver)\n",
    "        if penalty == 'l1':\n",
    "            for l1_ratio in np.linspace(0, 1, 10):\n",
    "                clf = linear_model.LogisticRegression(C=C, penalty=penalty, l1_ratio=l1_ratio, solver=solver)\n",
    "\n",
    "        clf.fit(X_train_pca5, y_train)        \n",
    "        y_pred = clf.predict(X_test_pca5)\n",
    "        \n",
    "        sensivivity = get_sensitivity(y_test, y_pred)\n",
    "\n",
    "        if sensivivity > best_sens:\n",
    "            best_clf = clf\n",
    "            best_sens = sensivivity\n",
    "        \n",
    "        print(f\"{clf.__class__.__name__} [C={C}, penalty={penalty}] -> {sensivivity}\")\n",
    "print(f\"Najwyższa czułość wyniosła: {best_sens}\")"
   ]
  },
  {
   "cell_type": "code",
   "execution_count": 98,
   "metadata": {},
   "outputs": [
    {
     "data": {
      "image/png": "[encoded data removed]",
      "text/plain": [
       "<Figure size 432x288 with 2 Axes>"
      ]
     },
     "metadata": {
      "needs_background": "light"
     },
     "output_type": "display_data"
    }
   ],
   "source": [
    "plot_confusion_matrix(best_clf, X_test_pca5, y_test)\n",
    "plt.show()"
   ]
  }
 ],
 "metadata": {
  "kernelspec": {
   "display_name": "Python 3",
   "language": "python",
   "name": "python3"
  },
  "language_info": {
   "codemirror_mode": {
    "name": "ipython",
    "version": 3
   },
   "file_extension": ".py",
   "mimetype": "text/x-python",
   "name": "python",
   "nbconvert_exporter": "python",
   "pygments_lexer": "ipython3",
   "version": "3.8.5"
  }
 },
 "nbformat": 4,
 "nbformat_minor": 4
}
